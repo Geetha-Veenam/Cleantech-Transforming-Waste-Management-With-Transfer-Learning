{
 "cells": [
  {
   "cell_type": "code",
   "execution_count": 1,
   "metadata": {
    "id": "cYOS4wrk9VKE"
   },
   "outputs": [],
   "source": [
    "import os\n",
    "import shutil\n",
    "import numpy as np\n",
    "from tensorflow.keras.preprocessing.image import ImageDataGenerator\n",
    "from sklearn.model_selection import train_test_split\n",
    "from tensorflow.keras.applications.vgg16 import VGG16\n",
    "from tensorflow.keras.layers import Dense, Flatten\n",
    "from tensorflow.keras.models import Model\n",
    "from keras.optimizers import Adam\n",
    "from tensorflow.keras.models import Model\n",
    "from keras.preprocessing import image\n",
    "from keras.applications.vgg16 import preprocess_input\n",
    "from tensorflow.keras.preprocessing.image import load_img, img_to_array"
   ]
  },
  {
   "cell_type": "code",
   "execution_count": 9,
   "metadata": {
    "colab": {
     "base_uri": "https://localhost:8080/"
    },
    "id": "q23jtSQdFgWx",
    "outputId": "7fdc9285-c87e-48e5-df51-b8e0f152e1b7"
   },
   "outputs": [
    {
     "name": "stdout",
     "output_type": "stream",
     "text": [
      "Requirement already satisfied: kaggle in /usr/local/lib/python3.11/dist-packages (1.7.4.5)\n",
      "Requirement already satisfied: bleach in /usr/local/lib/python3.11/dist-packages (from kaggle) (6.2.0)\n",
      "Requirement already satisfied: certifi>=14.05.14 in /usr/local/lib/python3.11/dist-packages (from kaggle) (2025.6.15)\n",
      "Requirement already satisfied: charset-normalizer in /usr/local/lib/python3.11/dist-packages (from kaggle) (3.4.2)\n",
      "Requirement already satisfied: idna in /usr/local/lib/python3.11/dist-packages (from kaggle) (3.10)\n",
      "Requirement already satisfied: protobuf in /usr/local/lib/python3.11/dist-packages (from kaggle) (5.29.5)\n",
      "Requirement already satisfied: python-dateutil>=2.5.3 in /usr/local/lib/python3.11/dist-packages (from kaggle) (2.9.0.post0)\n",
      "Requirement already satisfied: python-slugify in /usr/local/lib/python3.11/dist-packages (from kaggle) (8.0.4)\n",
      "Requirement already satisfied: requests in /usr/local/lib/python3.11/dist-packages (from kaggle) (2.32.3)\n",
      "Requirement already satisfied: setuptools>=21.0.0 in /usr/local/lib/python3.11/dist-packages (from kaggle) (75.2.0)\n",
      "Requirement already satisfied: six>=1.10 in /usr/local/lib/python3.11/dist-packages (from kaggle) (1.17.0)\n",
      "Requirement already satisfied: text-unidecode in /usr/local/lib/python3.11/dist-packages (from kaggle) (1.3)\n",
      "Requirement already satisfied: tqdm in /usr/local/lib/python3.11/dist-packages (from kaggle) (4.67.1)\n",
      "Requirement already satisfied: urllib3>=1.15.1 in /usr/local/lib/python3.11/dist-packages (from kaggle) (2.4.0)\n",
      "Requirement already satisfied: webencodings in /usr/local/lib/python3.11/dist-packages (from kaggle) (0.5.1)\n"
     ]
    }
   ],
   "source": [
    "!pip install kaggle"
   ]
  },
  {
   "cell_type": "code",
   "execution_count": 10,
   "metadata": {
    "colab": {
     "base_uri": "https://localhost:8080/"
    },
    "id": "NWrSagenF8_u",
    "outputId": "9b66cfce-5ba9-4089-cba3-2dcb8e921acc"
   },
   "outputs": [
    {
     "name": "stdout",
     "output_type": "stream",
     "text": [
      "mkdir: cannot create directory ‘/root/.kaggle’: File exists\n"
     ]
    }
   ],
   "source": [
    "!mkdir ~/.kaggle"
   ]
  },
  {
   "cell_type": "code",
   "execution_count": 11,
   "metadata": {
    "id": "aOrxvuYiGGFy"
   },
   "outputs": [],
   "source": [
    "!cp kaggle.json ~/.kaggle"
   ]
  },
  {
   "cell_type": "code",
   "execution_count": 12,
   "metadata": {
    "colab": {
     "base_uri": "https://localhost:8080/"
    },
    "id": "hIpnochhGMkO",
    "outputId": "41b624ae-84c8-4b58-f71a-6e1686d68852"
   },
   "outputs": [
    {
     "name": "stdout",
     "output_type": "stream",
     "text": [
      "Warning: Your Kaggle API key is readable by other users on this system! To fix this, you can run 'chmod 600 /root/.kaggle/kaggle.json'\n",
      "Dataset URL: https://www.kaggle.com/datasets/elinachen717/municipal-solid-waste-dataset\n",
      "License(s): CC0-1.0\n",
      "Downloading municipal-solid-waste-dataset.zip to /content\n",
      "  0% 0.00/4.81M [00:00<?, ?B/s]\n",
      "100% 4.81M/4.81M [00:00<00:00, 517MB/s]\n"
     ]
    }
   ],
   "source": [
    "!kaggle datasets download -d elinachen717/municipal-solid-waste-dataset"
   ]
  },
  {
   "cell_type": "code",
   "execution_count": 13,
   "metadata": {
    "colab": {
     "base_uri": "https://localhost:8080/"
    },
    "id": "qUQDZ9QvGjBT",
    "outputId": "5e63aba2-2287-45ca-c9b9-5f81cb09fd90"
   },
   "outputs": [
    {
     "name": "stdout",
     "output_type": "stream",
     "text": [
      "Archive:  /content/municipal-solid-waste-dataset.zip\n",
      "  inflating: Dataset/Biodegradable Images/TEST_BIODEG_HFL_0.jpeg  \n",
      "  inflating: Dataset/Biodegradable Images/TEST_BIODEG_HFL_1.jpeg  \n",
      "  inflating: Dataset/Biodegradable Images/TEST_BIODEG_HFL_10.jpeg  \n",
      "  inflating: Dataset/Biodegradable Images/TEST_BIODEG_HFL_100.jpeg  \n",
      "  inflating: Dataset/Biodegradable Images/TEST_BIODEG_HFL_1000.jpeg  \n",
      "  inflating: Dataset/Biodegradable Images/TEST_BIODEG_HFL_1004.jpeg  \n",
      "  inflating: Dataset/Biodegradable Images/TEST_BIODEG_HFL_1005.jpeg  \n",
      "  inflating: Dataset/Biodegradable Images/TEST_BIODEG_HFL_1007.jpeg  \n",
      "  inflating: Dataset/Biodegradable Images/TEST_BIODEG_HFL_1008.jpeg  \n",
      "  inflating: Dataset/Biodegradable Images/TEST_BIODEG_HFL_1009.jpeg  \n",
      "  inflating: Dataset/Biodegradable Images/TRAIN.1_BIODEG_ORI_10035.jpg  \n",
      "  inflating: Dataset/Biodegradable Images/TRAIN.2_BIODEG_ORI_10025.jpg  \n",
      "  inflating: Dataset/Biodegradable Images/TRAIN.2_BIODEG_ORI_10043.jpg  \n",
      "  inflating: Dataset/Biodegradable Images/TRAIN.2_BIODEG_ORI_10047.jpg  \n",
      "  inflating: Dataset/Biodegradable Images/TRAIN.2_BIODEG_ORI_10048.jpg  \n",
      "  inflating: Dataset/Biodegradable Images/TRAIN.2_BIODEG_ORI_10049.jpg  \n",
      "  inflating: Dataset/Biodegradable Images/TRAIN.2_BIODEG_ORI_101.jpg  \n",
      "  inflating: Dataset/Biodegradable Images/TRAIN.2_BIODEG_ORI_1010.jpg  \n",
      "  inflating: Dataset/Biodegradable Images/TRAIN.2_BIODEG_ORI_10124.jpg  \n",
      "  inflating: Dataset/Biodegradable Images/TRAIN.2_BIODEG_ORI_10125.jpg  \n",
      "  inflating: Dataset/Biodegradable Images/TRAIN.2_BIODEG_ORI_1013.jpg  \n",
      "  inflating: Dataset/Biodegradable Images/TRAIN.2_BIODEG_ORI_10130.jpg  \n",
      "  inflating: Dataset/Biodegradable Images/TRAIN.2_BIODEG_ORI_10131.jpg  \n",
      "  inflating: Dataset/Biodegradable Images/TRAIN.2_BIODEG_ORI_10133.jpg  \n",
      "  inflating: Dataset/Biodegradable Images/TRAIN.2_BIODEG_ORI_10136.jpg  \n",
      "  inflating: Dataset/Biodegradable Images/TRAIN.2_BIODEG_ORI_10137.jpg  \n",
      "  inflating: Dataset/Biodegradable Images/TRAIN.2_BIODEG_ORI_10139.jpg  \n",
      "  inflating: Dataset/Biodegradable Images/TRAIN.2_BIODEG_ORI_1014.jpg  \n",
      "  inflating: Dataset/Biodegradable Images/TRAIN.2_BIODEG_ORI_10143.jpg  \n",
      "  inflating: Dataset/Biodegradable Images/TRAIN.2_BIODEG_ORI_10149.jpg  \n",
      "  inflating: Dataset/Biodegradable Images/TRAIN.2_BIODEG_ORI_1015.jpg  \n",
      "  inflating: Dataset/Biodegradable Images/TRAIN.2_BIODEG_ORI_10151.jpg  \n",
      "  inflating: Dataset/Biodegradable Images/TRAIN.2_BIODEG_ORI_10154.jpg  \n",
      "  inflating: Dataset/Biodegradable Images/TRAIN.2_BIODEG_ORI_10155.jpg  \n",
      "  inflating: Dataset/Biodegradable Images/TRAIN.2_BIODEG_ORI_10183.jpg  \n",
      "  inflating: Dataset/Biodegradable Images/TRAIN.2_BIODEG_ORI_10206.jpg  \n",
      "  inflating: Dataset/Biodegradable Images/TRAIN.2_BIODEG_ORI_1027.jpg  \n",
      "  inflating: Dataset/Biodegradable Images/TRAIN.2_BIODEG_ORI_10270.jpg  \n",
      "  inflating: Dataset/Biodegradable Images/TRAIN.2_BIODEG_ORI_10287.jpg  \n",
      "  inflating: Dataset/Biodegradable Images/TRAIN.2_BIODEG_ORI_1036.jpg  \n",
      "  inflating: Dataset/Biodegradable Images/TRAIN.2_BIODEG_ORI_1037.jpg  \n",
      "  inflating: Dataset/Biodegradable Images/TRAIN.2_BIODEG_ORI_10384.jpg  \n",
      "  inflating: Dataset/Biodegradable Images/TRAIN.2_BIODEG_ORI_10387.jpg  \n",
      "  inflating: Dataset/Biodegradable Images/TRAIN.2_BIODEG_ORI_10388.jpg  \n",
      "  inflating: Dataset/Biodegradable Images/TRAIN.2_BIODEG_ORI_10389.jpg  \n",
      "  inflating: Dataset/Biodegradable Images/TRAIN.2_BIODEG_ORI_10394.jpg  \n",
      "  inflating: Dataset/Biodegradable Images/TRAIN.2_BIODEG_ORI_104.jpg  \n",
      "  inflating: Dataset/Biodegradable Images/TRAIN.2_BIODEG_ORI_10400.jpg  \n",
      "  inflating: Dataset/Biodegradable Images/TRAIN.2_BIODEG_ORI_10478.jpg  \n",
      "  inflating: Dataset/Biodegradable Images/TRAIN.2_BIODEG_ORI_10657.jpg  \n",
      "  inflating: Dataset/Biodegradable Images/TRAIN.2_BIODEG_ORI_10658.jpg  \n",
      "  inflating: Dataset/Biodegradable Images/TRAIN.2_BIODEG_ORI_10660.jpg  \n",
      "  inflating: Dataset/Biodegradable Images/TRAIN.2_BIODEG_ORI_10661.jpg  \n",
      "  inflating: Dataset/Biodegradable Images/TRAIN.2_BIODEG_ORI_10662.jpg  \n",
      "  inflating: Dataset/Biodegradable Images/TRAIN.2_BIODEG_ORI_10667.jpg  \n",
      "  inflating: Dataset/Biodegradable Images/TRAIN.2_BIODEG_ORI_10703.jpg  \n",
      "  inflating: Dataset/Biodegradable Images/TRAIN.2_BIODEG_ORI_10707.jpg  \n",
      "  inflating: Dataset/Biodegradable Images/TRAIN.2_BIODEG_ORI_10765.jpg  \n",
      "  inflating: Dataset/Biodegradable Images/TRAIN.2_BIODEG_ORI_10768.jpg  \n",
      "  inflating: Dataset/Biodegradable Images/TRAIN.2_BIODEG_ORI_10772.jpg  \n",
      "  inflating: Dataset/Biodegradable Images/TRAIN.2_BIODEG_ORI_10774.jpg  \n",
      "  inflating: Dataset/Biodegradable Images/TRAIN.2_BIODEG_ORI_10777.jpg  \n",
      "  inflating: Dataset/Biodegradable Images/TRAIN.2_BIODEG_ORI_10778.jpg  \n",
      "  inflating: Dataset/Biodegradable Images/TRAIN.2_BIODEG_ORI_10788.jpg  \n",
      "  inflating: Dataset/Biodegradable Images/TRAIN.2_BIODEG_ORI_1083.jpg  \n",
      "  inflating: Dataset/Biodegradable Images/TRAIN.2_BIODEG_ORI_10941.jpg  \n",
      "  inflating: Dataset/Biodegradable Images/TRAIN.2_BIODEG_ORI_10942.jpg  \n",
      "  inflating: Dataset/Biodegradable Images/TRAIN.2_BIODEG_ORI_10943.jpg  \n",
      "  inflating: Dataset/Biodegradable Images/TRAIN.2_BIODEG_ORI_10944.jpg  \n",
      "  inflating: Dataset/Biodegradable Images/TRAIN.2_BIODEG_ORI_10945.jpg  \n",
      "  inflating: Dataset/Biodegradable Images/TRAIN.2_BIODEG_ORI_10946.jpg  \n",
      "  inflating: Dataset/Biodegradable Images/TRAIN.2_BIODEG_ORI_11042.jpg  \n",
      "  inflating: Dataset/Biodegradable Images/TRAIN.2_BIODEG_ORI_1110.jpg  \n",
      "  inflating: Dataset/Biodegradable Images/TRAIN.2_BIODEG_ORI_11167.jpg  \n",
      "  inflating: Dataset/Biodegradable Images/TRAIN.2_BIODEG_ORI_11171.jpg  \n",
      "  inflating: Dataset/Biodegradable Images/TRAIN.2_BIODEG_ORI_11172.jpg  \n",
      "  inflating: Dataset/Biodegradable Images/TRAIN.2_BIODEG_ORI_11175.jpg  \n",
      "  inflating: Dataset/Biodegradable Images/TRAIN.2_BIODEG_ORI_11176.jpg  \n",
      "  inflating: Dataset/Biodegradable Images/TRAIN.2_BIODEG_ORI_11180.jpg  \n",
      "  inflating: Dataset/Biodegradable Images/TRAIN.2_BIODEG_ORI_11197.jpg  \n",
      "  inflating: Dataset/Biodegradable Images/TRAIN.2_BIODEG_ORI_11219.jpg  \n",
      "  inflating: Dataset/Biodegradable Images/TRAIN.2_BIODEG_ORI_11224.jpg  \n",
      "  inflating: Dataset/Biodegradable Images/TRAIN.2_BIODEG_ORI_11242.jpg  \n",
      "  inflating: Dataset/Biodegradable Images/TRAIN.2_BIODEG_ORI_11252.jpg  \n",
      "  inflating: Dataset/Biodegradable Images/TRAIN.2_BIODEG_ORI_11260.jpg  \n",
      "  inflating: Dataset/Biodegradable Images/TRAIN.2_BIODEG_ORI_11271.jpg  \n",
      "  inflating: Dataset/Biodegradable Images/TRAIN.2_BIODEG_ORI_11275.jpg  \n",
      "  inflating: Dataset/Biodegradable Images/TRAIN.2_BIODEG_ORI_11276.jpg  \n",
      "  inflating: Dataset/Biodegradable Images/TRAIN.2_BIODEG_ORI_11278.jpg  \n",
      "  inflating: Dataset/Biodegradable Images/TRAIN.2_BIODEG_ORI_11280.jpg  \n",
      "  inflating: Dataset/Biodegradable Images/TRAIN.2_BIODEG_ORI_11281.jpg  \n",
      "  inflating: Dataset/Biodegradable Images/TRAIN.2_BIODEG_ORI_11282.jpg  \n",
      "  inflating: Dataset/Biodegradable Images/TRAIN.2_BIODEG_ORI_11291.jpg  \n",
      "  inflating: Dataset/Biodegradable Images/TRAIN.2_BIODEG_ORI_11292.jpg  \n",
      "  inflating: Dataset/Biodegradable Images/TRAIN.2_BIODEG_ORI_11293.jpg  \n",
      "  inflating: Dataset/Biodegradable Images/TRAIN.2_BIODEG_ORI_11295.jpg  \n",
      "  inflating: Dataset/Biodegradable Images/TRAIN.2_BIODEG_ORI_11297.jpg  \n",
      "  inflating: Dataset/Biodegradable Images/TRAIN.2_BIODEG_ORI_113.jpg  \n",
      "  inflating: Dataset/Biodegradable Images/TRAIN.2_BIODEG_ORI_1130.jpg  \n",
      "  inflating: Dataset/Biodegradable Images/TRAIN.2_BIODEG_ORI_11300.jpg  \n",
      "  inflating: Dataset/Biodegradable Images/TRAIN.2_BIODEG_ORI_11301.jpg  \n",
      "  inflating: Dataset/Biodegradable Images/TRAIN.2_BIODEG_ORI_11303.jpg  \n",
      "  inflating: Dataset/Biodegradable Images/TRAIN.2_BIODEG_ORI_1131.jpg  \n",
      "  inflating: Dataset/Biodegradable Images/TRAIN.2_BIODEG_ORI_11312.jpg  \n",
      "  inflating: Dataset/Biodegradable Images/TRAIN.2_BIODEG_ORI_11313.jpg  \n",
      "  inflating: Dataset/Biodegradable Images/TRAIN.2_BIODEG_ORI_11315.jpg  \n",
      "  inflating: Dataset/Biodegradable Images/TRAIN.2_BIODEG_ORI_1132.jpg  \n",
      "  inflating: Dataset/Biodegradable Images/TRAIN.2_BIODEG_ORI_11324.jpg  \n",
      "  inflating: Dataset/Biodegradable Images/TRAIN.2_BIODEG_ORI_1133.jpg  \n",
      "  inflating: Dataset/Biodegradable Images/TRAIN.2_BIODEG_ORI_11348.jpg  \n",
      "  inflating: Dataset/Biodegradable Images/TRAIN.2_BIODEG_ORI_11358.jpg  \n",
      "  inflating: Dataset/Biodegradable Images/TRAIN.2_BIODEG_ORI_11370.jpg  \n",
      "  inflating: Dataset/Biodegradable Images/TRAIN.2_BIODEG_ORI_11378.jpg  \n",
      "  inflating: Dataset/Biodegradable Images/TRAIN.2_BIODEG_ORI_11405.jpg  \n",
      "  inflating: Dataset/Biodegradable Images/TRAIN.2_BIODEG_ORI_11406.jpg  \n",
      "  inflating: Dataset/Biodegradable Images/TRAIN.2_BIODEG_ORI_11418.jpg  \n",
      "  inflating: Dataset/Biodegradable Images/TRAIN.2_BIODEG_ORI_11499.jpg  \n",
      "  inflating: Dataset/Biodegradable Images/TRAIN.2_BIODEG_ORI_11524.jpg  \n",
      "  inflating: Dataset/Biodegradable Images/TRAIN.2_BIODEG_ORI_1159.jpg  \n",
      "  inflating: Dataset/Biodegradable Images/TRAIN.2_BIODEG_ORI_11643.jpg  \n",
      "  inflating: Dataset/Biodegradable Images/TRAIN.2_BIODEG_ORI_11681 (1).jpg  \n",
      "  inflating: Dataset/Biodegradable Images/TRAIN.2_BIODEG_ORI_11681.jpg  \n",
      "  inflating: Dataset/Biodegradable Images/TRAIN.2_BIODEG_ORI_11682.jpg  \n",
      "  inflating: Dataset/Biodegradable Images/TRAIN.2_BIODEG_ORI_11687.jpg  \n",
      "  inflating: Dataset/Biodegradable Images/TRAIN.2_BIODEG_ORI_11688.jpg  \n",
      "  inflating: Dataset/Biodegradable Images/TRAIN.2_BIODEG_ORI_11689.jpg  \n",
      "  inflating: Dataset/Biodegradable Images/TRAIN.2_BIODEG_ORI_1170.jpg  \n",
      "  inflating: Dataset/Biodegradable Images/TRAIN.2_BIODEG_ORI_11744.jpg  \n",
      "  inflating: Dataset/Biodegradable Images/TRAIN.2_BIODEG_ORI_11932.jpg  \n",
      "  inflating: Dataset/Biodegradable Images/TRAIN.2_BIODEG_ORI_11935.jpg  \n",
      "  inflating: Dataset/Recyclable Images/cardboard10.jpeg  \n",
      "  inflating: Dataset/Recyclable Images/cardboard102.jpeg  \n",
      "  inflating: Dataset/Recyclable Images/cardboard103.jpeg  \n",
      "  inflating: Dataset/Recyclable Images/cardboard107.jpeg  \n",
      "  inflating: Dataset/Recyclable Images/cardboard108.jpeg  \n",
      "  inflating: Dataset/Recyclable Images/cardboard11.jpeg  \n",
      "  inflating: Dataset/Recyclable Images/cardboard113.jpeg  \n",
      "  inflating: Dataset/Recyclable Images/cardboard115.jpeg  \n",
      "  inflating: Dataset/Recyclable Images/cardboard12.jpeg  \n",
      "  inflating: Dataset/Recyclable Images/cardboard126.jpeg  \n",
      "  inflating: Dataset/Recyclable Images/cardboard127.jpeg  \n",
      "  inflating: Dataset/Recyclable Images/cardboard13.jpeg  \n",
      "  inflating: Dataset/Recyclable Images/cardboard130.jpeg  \n",
      "  inflating: Dataset/Recyclable Images/cardboard131.jpeg  \n",
      "  inflating: Dataset/Recyclable Images/cardboard134.jpeg  \n",
      "  inflating: Dataset/Recyclable Images/cardboard136.jpeg  \n",
      "  inflating: Dataset/Recyclable Images/cardboard138.jpeg  \n",
      "  inflating: Dataset/Recyclable Images/cardboard145.jpeg  \n",
      "  inflating: Dataset/Recyclable Images/cardboard146.jpeg  \n",
      "  inflating: Dataset/Recyclable Images/cardboard149.jpeg  \n",
      "  inflating: Dataset/Recyclable Images/cardboard151.jpeg  \n",
      "  inflating: Dataset/Recyclable Images/cardboard152.jpeg  \n",
      "  inflating: Dataset/Recyclable Images/cardboard153.jpeg  \n",
      "  inflating: Dataset/Recyclable Images/cardboard158.jpeg  \n",
      "  inflating: Dataset/Recyclable Images/cardboard160.jpeg  \n",
      "  inflating: Dataset/Recyclable Images/cardboard165.jpeg  \n",
      "  inflating: Dataset/Recyclable Images/glass101.jpeg  \n",
      "  inflating: Dataset/Recyclable Images/glass104.jpeg  \n",
      "  inflating: Dataset/Recyclable Images/glass106.jpeg  \n",
      "  inflating: Dataset/Recyclable Images/glass110.jpeg  \n",
      "  inflating: Dataset/Recyclable Images/glass111.jpeg  \n",
      "  inflating: Dataset/Recyclable Images/glass121.jpeg  \n",
      "  inflating: Dataset/Recyclable Images/glass123.jpeg  \n",
      "  inflating: Dataset/Recyclable Images/glass128.jpeg  \n",
      "  inflating: Dataset/Recyclable Images/glass137.jpeg  \n",
      "  inflating: Dataset/Recyclable Images/glass150.jpeg  \n",
      "  inflating: Dataset/Recyclable Images/glass151.jpeg  \n",
      "  inflating: Dataset/Recyclable Images/glass152.jpeg  \n",
      "  inflating: Dataset/Recyclable Images/glass153.jpeg  \n",
      "  inflating: Dataset/Recyclable Images/glass156.jpeg  \n",
      "  inflating: Dataset/Recyclable Images/glass16.jpeg  \n",
      "  inflating: Dataset/Recyclable Images/glass163.jpeg  \n",
      "  inflating: Dataset/Recyclable Images/glass169.jpeg  \n",
      "  inflating: Dataset/Recyclable Images/glass176.jpeg  \n",
      "  inflating: Dataset/Recyclable Images/glass18.jpeg  \n",
      "  inflating: Dataset/Recyclable Images/glass180.jpeg  \n",
      "  inflating: Dataset/Recyclable Images/glass189.jpeg  \n",
      "  inflating: Dataset/Recyclable Images/glass19.jpeg  \n",
      "  inflating: Dataset/Recyclable Images/glass193.jpeg  \n",
      "  inflating: Dataset/Recyclable Images/glass194.jpeg  \n",
      "  inflating: Dataset/Recyclable Images/glass202.jpeg  \n",
      "  inflating: Dataset/Recyclable Images/glass205.jpeg  \n",
      "  inflating: Dataset/Recyclable Images/metal100.jpeg  \n",
      "  inflating: Dataset/Recyclable Images/metal101.jpeg  \n",
      "  inflating: Dataset/Recyclable Images/metal102.jpeg  \n",
      "  inflating: Dataset/Recyclable Images/metal103.jpeg  \n",
      "  inflating: Dataset/Recyclable Images/metal110.jpeg  \n",
      "  inflating: Dataset/Recyclable Images/metal112.jpeg  \n",
      "  inflating: Dataset/Recyclable Images/metal114.jpeg  \n",
      "  inflating: Dataset/Recyclable Images/metal115.jpeg  \n",
      "  inflating: Dataset/Recyclable Images/metal116.jpeg  \n",
      "  inflating: Dataset/Recyclable Images/metal118.jpeg  \n",
      "  inflating: Dataset/Recyclable Images/metal120.jpeg  \n",
      "  inflating: Dataset/Recyclable Images/metal123.jpeg  \n",
      "  inflating: Dataset/Recyclable Images/metal125.jpeg  \n",
      "  inflating: Dataset/Recyclable Images/metal130.jpeg  \n",
      "  inflating: Dataset/Recyclable Images/metal133.jpeg  \n",
      "  inflating: Dataset/Recyclable Images/metal137.jpeg  \n",
      "  inflating: Dataset/Recyclable Images/metal141.jpeg  \n",
      "  inflating: Dataset/Recyclable Images/metal154.jpeg  \n",
      "  inflating: Dataset/Recyclable Images/metal157.jpeg  \n",
      "  inflating: Dataset/Recyclable Images/metal171.jpeg  \n",
      "  inflating: Dataset/Recyclable Images/metal174.jpeg  \n",
      "  inflating: Dataset/Recyclable Images/metal179.jpeg  \n",
      "  inflating: Dataset/Recyclable Images/metal18.jpeg  \n",
      "  inflating: Dataset/Recyclable Images/metal185.jpeg  \n",
      "  inflating: Dataset/Recyclable Images/metal190.jpeg  \n",
      "  inflating: Dataset/Recyclable Images/metal198.jpeg  \n",
      "  inflating: Dataset/Recyclable Images/paper100.jpeg  \n",
      "  inflating: Dataset/Recyclable Images/paper103.jpeg  \n",
      "  inflating: Dataset/Recyclable Images/paper107.jpeg  \n",
      "  inflating: Dataset/Recyclable Images/paper11.jpeg  \n",
      "  inflating: Dataset/Recyclable Images/paper110.jpeg  \n",
      "  inflating: Dataset/Recyclable Images/paper115.jpeg  \n",
      "  inflating: Dataset/Recyclable Images/paper116.jpeg  \n",
      "  inflating: Dataset/Recyclable Images/paper119.jpeg  \n",
      "  inflating: Dataset/Recyclable Images/paper122.jpeg  \n",
      "  inflating: Dataset/Recyclable Images/paper123.jpeg  \n",
      "  inflating: Dataset/Recyclable Images/paper124.jpeg  \n",
      "  inflating: Dataset/Recyclable Images/paper126.jpeg  \n",
      "  inflating: Dataset/Recyclable Images/paper134.jpeg  \n",
      "  inflating: Dataset/Recyclable Images/paper136.jpeg  \n",
      "  inflating: Dataset/Recyclable Images/paper137.jpeg  \n",
      "  inflating: Dataset/Recyclable Images/paper145.jpeg  \n",
      "  inflating: Dataset/Recyclable Images/paper149.jpeg  \n",
      "  inflating: Dataset/Recyclable Images/paper15.jpeg  \n",
      "  inflating: Dataset/Recyclable Images/paper152.jpeg  \n",
      "  inflating: Dataset/Recyclable Images/paper153.jpeg  \n",
      "  inflating: Dataset/Recyclable Images/paper157.jpeg  \n",
      "  inflating: Dataset/Recyclable Images/paper165.jpeg  \n",
      "  inflating: Dataset/Recyclable Images/paper166.jpeg  \n",
      "  inflating: Dataset/Recyclable Images/paper173.jpeg  \n",
      "  inflating: Dataset/Recyclable Images/paper192.jpeg  \n",
      "  inflating: Dataset/Recyclable Images/paper198.jpeg  \n",
      "  inflating: Dataset/Recyclable Images/plastic100.jpeg  \n",
      "  inflating: Dataset/Recyclable Images/plastic103.jpeg  \n",
      "  inflating: Dataset/Recyclable Images/plastic105.jpeg  \n",
      "  inflating: Dataset/Recyclable Images/plastic107.jpeg  \n",
      "  inflating: Dataset/Recyclable Images/plastic108.jpeg  \n",
      "  inflating: Dataset/Recyclable Images/plastic116.jpeg  \n",
      "  inflating: Dataset/Recyclable Images/plastic122.jpeg  \n",
      "  inflating: Dataset/Recyclable Images/plastic127.jpeg  \n",
      "  inflating: Dataset/Recyclable Images/plastic130.jpeg  \n",
      "  inflating: Dataset/Recyclable Images/plastic135.jpeg  \n",
      "  inflating: Dataset/Recyclable Images/plastic14.jpeg  \n",
      "  inflating: Dataset/Recyclable Images/plastic15.jpeg  \n",
      "  inflating: Dataset/Recyclable Images/plastic151.jpeg  \n",
      "  inflating: Dataset/Recyclable Images/plastic152.jpeg  \n",
      "  inflating: Dataset/Recyclable Images/plastic157.jpeg  \n",
      "  inflating: Dataset/Recyclable Images/plastic160.jpeg  \n",
      "  inflating: Dataset/Recyclable Images/plastic165.jpeg  \n",
      "  inflating: Dataset/Recyclable Images/plastic167.jpeg  \n",
      "  inflating: Dataset/Recyclable Images/plastic171.jpeg  \n",
      "  inflating: Dataset/Recyclable Images/plastic18.jpeg  \n",
      "  inflating: Dataset/Recyclable Images/plastic184.jpeg  \n",
      "  inflating: Dataset/Recyclable Images/plastic186.jpeg  \n",
      "  inflating: Dataset/Recyclable Images/plastic188.jpeg  \n",
      "  inflating: Dataset/Recyclable Images/plastic189.jpeg  \n",
      "  inflating: Dataset/Recyclable Images/plastic202.jpeg  \n",
      "  inflating: Dataset/Recyclable Images/plastic205.jpeg  \n",
      "  inflating: Dataset/Trash Images/TRAIN.2_NBIODEG_CCW_0.jpg  \n",
      "  inflating: Dataset/Trash Images/TRAIN.2_NBIODEG_CCW_1.jpg  \n",
      "  inflating: Dataset/Trash Images/TRAIN.2_NBIODEG_CCW_100.jpg  \n",
      "  inflating: Dataset/Trash Images/TRAIN.2_NBIODEG_CCW_1000.jpg  \n",
      "  inflating: Dataset/Trash Images/TRAIN.2_NBIODEG_CCW_1004.jpg  \n",
      "  inflating: Dataset/Trash Images/TRAIN.2_NBIODEG_CCW_1007.jpg  \n",
      "  inflating: Dataset/Trash Images/TRAIN.4_NBIODEG_CCW_1237.jpg  \n",
      "  inflating: Dataset/Trash Images/TRAIN.4_NBIODEG_CCW_1240.jpg  \n",
      "  inflating: Dataset/Trash Images/TRAIN.4_NBIODEG_CCW_1491.jpg  \n",
      "  inflating: Dataset/Trash Images/TRAIN.4_NBIODEG_CCW_1493.jpg  \n",
      "  inflating: Dataset/Trash Images/TRAIN.4_NBIODEG_CCW_1496.jpg  \n",
      "  inflating: Dataset/Trash Images/TRAIN.4_NBIODEG_CCW_1503.jpg  \n",
      "  inflating: Dataset/Trash Images/TRAIN.4_NBIODEG_CCW_1506.jpg  \n",
      "  inflating: Dataset/Trash Images/TRAIN.4_NBIODEG_CCW_1520.jpg  \n",
      "  inflating: Dataset/Trash Images/TRAIN.4_NBIODEG_CCW_1536.jpg  \n",
      "  inflating: Dataset/Trash Images/TRAIN.4_NBIODEG_CCW_1777.jpg  \n",
      "  inflating: Dataset/Trash Images/TRAIN.4_NBIODEG_CCW_1778.jpg  \n",
      "  inflating: Dataset/Trash Images/TRAIN.4_NBIODEG_CCW_1895.jpg  \n",
      "  inflating: Dataset/Trash Images/TRAIN.4_NBIODEG_CCW_2209.jpg  \n",
      "  inflating: Dataset/Trash Images/TRAIN.4_NBIODEG_CCW_2210.jpg  \n",
      "  inflating: Dataset/Trash Images/TRAIN.4_NBIODEG_CCW_2313.jpg  \n",
      "  inflating: Dataset/Trash Images/TRAIN.4_NBIODEG_CCW_2316.jpg  \n",
      "  inflating: Dataset/Trash Images/TRAIN.4_NBIODEG_CCW_2348.jpg  \n",
      "  inflating: Dataset/Trash Images/TRAIN.4_NBIODEG_CCW_2372.jpg  \n",
      "  inflating: Dataset/Trash Images/trash1.jpeg  \n",
      "  inflating: Dataset/Trash Images/trash10.jpeg  \n",
      "  inflating: Dataset/Trash Images/trash102.jpeg  \n",
      "  inflating: Dataset/Trash Images/trash105.jpeg  \n",
      "  inflating: Dataset/Trash Images/trash107.jpeg  \n",
      "  inflating: Dataset/Trash Images/trash108.jpeg  \n",
      "  inflating: Dataset/Trash Images/trash109.jpeg  \n",
      "  inflating: Dataset/Trash Images/trash11.jpeg  \n",
      "  inflating: Dataset/Trash Images/trash110.jpeg  \n",
      "  inflating: Dataset/Trash Images/trash111.jpeg  \n",
      "  inflating: Dataset/Trash Images/trash112.jpeg  \n",
      "  inflating: Dataset/Trash Images/trash114.jpeg  \n",
      "  inflating: Dataset/Trash Images/trash115.jpeg  \n",
      "  inflating: Dataset/Trash Images/trash116.jpeg  \n",
      "  inflating: Dataset/Trash Images/trash117.jpeg  \n",
      "  inflating: Dataset/Trash Images/trash118.jpeg  \n",
      "  inflating: Dataset/Trash Images/trash119.jpeg  \n",
      "  inflating: Dataset/Trash Images/trash12.jpeg  \n",
      "  inflating: Dataset/Trash Images/trash120.jpeg  \n",
      "  inflating: Dataset/Trash Images/trash121.jpeg  \n",
      "  inflating: Dataset/Trash Images/trash122.jpeg  \n",
      "  inflating: Dataset/Trash Images/trash123.jpeg  \n",
      "  inflating: Dataset/Trash Images/trash124.jpeg  \n",
      "  inflating: Dataset/Trash Images/trash125.jpeg  \n",
      "  inflating: Dataset/Trash Images/trash126.jpeg  \n",
      "  inflating: Dataset/Trash Images/trash127.jpeg  \n",
      "  inflating: Dataset/Trash Images/trash128.jpeg  \n",
      "  inflating: Dataset/Trash Images/trash129.jpeg  \n",
      "  inflating: Dataset/Trash Images/trash130.jpeg  \n",
      "  inflating: Dataset/Trash Images/trash132.jpeg  \n",
      "  inflating: Dataset/Trash Images/trash133.jpeg  \n",
      "  inflating: Dataset/Trash Images/trash134.jpeg  \n",
      "  inflating: Dataset/Trash Images/trash135.jpeg  \n",
      "  inflating: Dataset/Trash Images/trash136.jpeg  \n",
      "  inflating: Dataset/Trash Images/trash137.jpeg  \n",
      "  inflating: Dataset/Trash Images/trash14.jpeg  \n",
      "  inflating: Dataset/Trash Images/trash15.jpeg  \n",
      "  inflating: Dataset/Trash Images/trash16.jpeg  \n",
      "  inflating: Dataset/Trash Images/trash18.jpeg  \n",
      "  inflating: Dataset/Trash Images/trash19.jpeg  \n",
      "  inflating: Dataset/Trash Images/trash2.jpeg  \n",
      "  inflating: Dataset/Trash Images/trash20.jpeg  \n",
      "  inflating: Dataset/Trash Images/trash21.jpeg  \n",
      "  inflating: Dataset/Trash Images/trash22.jpeg  \n",
      "  inflating: Dataset/Trash Images/trash23.jpeg  \n",
      "  inflating: Dataset/Trash Images/trash24.jpeg  \n",
      "  inflating: Dataset/Trash Images/trash25.jpeg  \n",
      "  inflating: Dataset/Trash Images/trash27.jpeg  \n",
      "  inflating: Dataset/Trash Images/trash28.jpeg  \n",
      "  inflating: Dataset/Trash Images/trash29.jpeg  \n",
      "  inflating: Dataset/Trash Images/trash3.jpeg  \n",
      "  inflating: Dataset/Trash Images/trash32.jpeg  \n",
      "  inflating: Dataset/Trash Images/trash33.jpeg  \n",
      "  inflating: Dataset/Trash Images/trash34.jpeg  \n",
      "  inflating: Dataset/Trash Images/trash35.jpeg  \n",
      "  inflating: Dataset/Trash Images/trash36.jpeg  \n",
      "  inflating: Dataset/Trash Images/trash37.jpeg  \n",
      "  inflating: Dataset/Trash Images/trash38.jpeg  \n",
      "  inflating: Dataset/Trash Images/trash39.jpeg  \n",
      "  inflating: Dataset/Trash Images/trash4.jpeg  \n",
      "  inflating: Dataset/Trash Images/trash40.jpeg  \n",
      "  inflating: Dataset/Trash Images/trash41.jpeg  \n",
      "  inflating: Dataset/Trash Images/trash43.jpeg  \n",
      "  inflating: Dataset/Trash Images/trash44.jpeg  \n",
      "  inflating: Dataset/Trash Images/trash45.jpeg  \n",
      "  inflating: Dataset/Trash Images/trash46.jpeg  \n",
      "  inflating: Dataset/Trash Images/trash47.jpeg  \n",
      "  inflating: Dataset/Trash Images/trash48.jpeg  \n",
      "  inflating: Dataset/Trash Images/trash5.jpeg  \n",
      "  inflating: Dataset/Trash Images/trash50.jpeg  \n",
      "  inflating: Dataset/Trash Images/trash52.jpeg  \n",
      "  inflating: Dataset/Trash Images/trash53.jpeg  \n",
      "  inflating: Dataset/Trash Images/trash54.jpeg  \n",
      "  inflating: Dataset/Trash Images/trash57.jpeg  \n",
      "  inflating: Dataset/Trash Images/trash6.jpeg  \n",
      "  inflating: Dataset/Trash Images/trash60.jpeg  \n",
      "  inflating: Dataset/Trash Images/trash62.jpeg  \n",
      "  inflating: Dataset/Trash Images/trash63.jpeg  \n",
      "  inflating: Dataset/Trash Images/trash64.jpeg  \n",
      "  inflating: Dataset/Trash Images/trash66.jpeg  \n",
      "  inflating: Dataset/Trash Images/trash68.jpeg  \n",
      "  inflating: Dataset/Trash Images/trash69.jpeg  \n",
      "  inflating: Dataset/Trash Images/trash70.jpeg  \n",
      "  inflating: Dataset/Trash Images/trash71.jpeg  \n",
      "  inflating: Dataset/Trash Images/trash72.jpeg  \n",
      "  inflating: Dataset/Trash Images/trash73.jpeg  \n",
      "  inflating: Dataset/Trash Images/trash75.jpeg  \n",
      "  inflating: Dataset/Trash Images/trash77.jpeg  \n",
      "  inflating: Dataset/Trash Images/trash78.jpeg  \n",
      "  inflating: Dataset/Trash Images/trash79.jpeg  \n",
      "  inflating: Dataset/Trash Images/trash80.jpeg  \n",
      "  inflating: Dataset/Trash Images/trash82.jpeg  \n",
      "  inflating: Dataset/Trash Images/trash83.jpeg  \n",
      "  inflating: Dataset/Trash Images/trash85.jpeg  \n",
      "  inflating: Dataset/Trash Images/trash86.jpeg  \n",
      "  inflating: Dataset/Trash Images/trash87.jpeg  \n",
      "  inflating: Dataset/Trash Images/trash88.jpeg  \n",
      "  inflating: Dataset/Trash Images/trash9.jpeg  \n",
      "  inflating: Dataset/Trash Images/trash90.jpeg  \n",
      "  inflating: Dataset/Trash Images/trash91.jpeg  \n",
      "  inflating: Dataset/Trash Images/trash92.jpeg  \n",
      "  inflating: Dataset/Trash Images/trash93.jpeg  \n",
      "  inflating: Dataset/Trash Images/trash94.jpeg  \n",
      "  inflating: Dataset/Trash Images/trash97.jpeg  \n",
      "  inflating: Dataset/Trash Images/trash98.jpeg  \n",
      "  inflating: Dataset/Trash Images/trash99.jpeg  \n"
     ]
    }
   ],
   "source": [
    "!unzip /content/municipal-solid-waste-dataset.zip"
   ]
  },
  {
   "cell_type": "code",
   "execution_count": 5,
   "metadata": {
    "colab": {
     "base_uri": "https://localhost:8080/"
    },
    "id": "C_t6h7DTGo0a",
    "outputId": "0cf6015a-d8ba-4a51-e40c-b3e114f4801b"
   },
   "outputs": [],
   "source": [
    "import os\n",
    "import shutil\n",
    "import random\n",
    "\n",
    "input_dir = 'dataset'\n",
    "output_dir = 'output_dataset'\n",
    "split_ratio = 0.8\n",
    "\n",
    "classes = os.listdir(input_dir)\n",
    "\n",
    "for cls in classes:\n",
    "    class_dir = os.path.join(input_dir, cls)\n",
    "    \n",
    "    # Skip if it's not a directory\n",
    "    if not os.path.isdir(class_dir):\n",
    "        continue\n",
    "\n",
    "    images = [f for f in os.listdir(class_dir) if f.lower().endswith(('.jpg', '.jpeg', '.png'))]\n",
    "\n",
    "    random.shuffle(images)\n",
    "    split_point = int(len(images) * split_ratio)\n",
    "    train_images = images[:split_point]\n",
    "    val_images = images[split_point:]\n",
    "\n",
    "    os.makedirs(os.path.join(output_dir, 'train', cls), exist_ok=True)\n",
    "    os.makedirs(os.path.join(output_dir, 'val', cls), exist_ok=True)\n",
    "\n",
    "    for img in train_images:\n",
    "        shutil.copy(os.path.join(class_dir, img), os.path.join(output_dir, 'train', cls, img))\n",
    "\n",
    "    for img in val_images:\n",
    "        shutil.copy(os.path.join(class_dir, img), os.path.join(output_dir, 'val', cls, img))\n"
   ]
  },
  {
   "cell_type": "code",
   "execution_count": 7,
   "metadata": {
    "colab": {
     "base_uri": "https://localhost:8080/"
    },
    "id": "E57gsuj0Hpqr",
    "outputId": "a9436e73-e95d-4abe-c854-4c32987e8b9e"
   },
   "outputs": [
    {
     "name": "stdout",
     "output_type": "stream",
     "text": [
      "Found 343 images belonging to 5 classes.\n",
      "Found 116 images belonging to 5 classes.\n",
      "Found 52 images belonging to 3 classes.\n",
      "{'Biodegradable Images': 0, 'Recyclable Images': 1, 'Trash Images': 2, 'test': 3, 'train': 4}\n",
      "{'Biodegradable Images': 0, 'Recyclable Images': 1, 'Trash Images': 2, 'test': 3, 'train': 4}\n",
      "{'Biodegradable Images': 0, 'Recyclable Images': 1, 'test': 2}\n"
     ]
    }
   ],
   "source": [
    "\n",
    "# Define directories\n",
    "dataset_dir = 'output_dataset'\n",
    "train_dir = os.path.join(dataset_dir, 'train')\n",
    "val_dir = os.path.join(dataset_dir, 'val')\n",
    "test_dir=os.path.join(dataset_dir, 'test')\n",
    "# Define image size expected by the pre-trained model\n",
    "IMG_SIZE = (224, 224) # Common size for many models like ResNet, VGG, MobileNet\n",
    "# Create ImageDataGenerators for resizing and augmenting the images\n",
    "train_datagen = ImageDataGenerator(\n",
    "rescale=1./255,\n",
    "rotation_range=20,\n",
    "width_shift_range=0.2,\n",
    "height_shift_range=0.2,\n",
    "shear_range=0.2,\n",
    "zoom_range=0.2,\n",
    "horizontal_flip=True,\n",
    "fill_mode='nearest'\n",
    ")\n",
    "val_test_datagen = ImageDataGenerator (rescale=1./255)\n",
    "# Load and resize the images from directories\n",
    "train_generator = train_datagen.flow_from_directory(\n",
    "train_dir,\n",
    "target_size=IMG_SIZE,\n",
    "batch_size=32,\n",
    "class_mode='binary' # Assuming binary classification for healthy vs rotten\n",
    ")\n",
    "val_generator = val_test_datagen.flow_from_directory(\n",
    "val_dir,\n",
    "target_size=IMG_SIZE,\n",
    "batch_size=32,\n",
    "class_mode='binary'\n",
    ")\n",
    "test_generator = val_test_datagen.flow_from_directory( test_dir,\n",
    "target_size=IMG_SIZE,\n",
    "batch_size=32,\n",
    "class_mode='binary',\n",
    "shuffle=False # Do not shuffle test data\n",
    ")\n",
    "# Print class indices for reference\n",
    "print(train_generator.class_indices)\n",
    "print(val_generator.class_indices)\n",
    "print(test_generator.class_indices)"
   ]
  },
  {
   "cell_type": "code",
   "execution_count": 9,
   "metadata": {
    "colab": {
     "base_uri": "https://localhost:8080/",
     "height": 217
    },
    "id": "5Txf0IECIbWd",
    "outputId": "f4ddac5c-d7f6-4ae7-f7ff-fd3c1274b074"
   },
   "outputs": [
    {
     "data": {
      "image/jpeg": "[encoded data removed]",
      "text/plain": [
       "<IPython.core.display.Image object>"
      ]
     },
     "metadata": {},
     "output_type": "display_data"
    }
   ],
   "source": [
    "\n",
    "import random\n",
    "from IPython.display import Image, display\n",
    "# Specify the path to your image folder\n",
    "folder_path = 'output_dataset/train/Biodegradable Images' # Replace with the actual path to your image folder\n",
    "# List all files in the folder\n",
    "image_files = [f for f in os.listdir(folder_path) if f.endswith(('.jpg', '.png', 'jpeg'))]\n",
    "# Select a random image from the list\n",
    "selected_image = random.choice(image_files)\n",
    "# Display the randomly selected image\n",
    "image_path = os.path.join(folder_path, selected_image)\n",
    "display(Image(filename=image_path))"
   ]
  },
  {
   "cell_type": "code",
   "execution_count": 10,
   "metadata": {
    "colab": {
     "base_uri": "https://localhost:8080/",
     "height": 401
    },
    "id": "Y_4Ahb_9I0BR",
    "outputId": "45a7db35-0b9e-4a1f-e414-c447feb15af6"
   },
   "outputs": [
    {
     "data": {
      "image/jpeg": "[encoded data removed]",
      "text/plain": [
       "<IPython.core.display.Image object>"
      ]
     },
     "metadata": {},
     "output_type": "display_data"
    }
   ],
   "source": [
    "\n",
    "folder_path = 'output_dataset/test/Recyclable Images' # Replace with the actual path to your image folder\n",
    "# List all files in the folder\n",
    "image_files = [f for f in os.listdir(folder_path) if f.endswith(('.jpg', '.png', '.jpeg'))]\n",
    "# Select a random image from the list\n",
    "selected_image = random.choice(image_files)\n",
    "# Display the randomly selected image\n",
    "image_path = os.path.join(folder_path, selected_image)\n",
    "display(Image(filename=image_path))"
   ]
  },
  {
   "cell_type": "code",
   "execution_count": 12,
   "metadata": {
    "colab": {
     "base_uri": "https://localhost:8080/",
     "height": 401
    },
    "id": "JxIZ93qfJM7p",
    "outputId": "f550d47e-571d-4b5c-9a68-3ea41db1a21e"
   },
   "outputs": [
    {
     "data": {
      "image/jpeg": "[encoded data removed]",
      "text/plain": [
       "<IPython.core.display.Image object>"
      ]
     },
     "metadata": {},
     "output_type": "display_data"
    }
   ],
   "source": [
    "\n",
    "folder_path = 'output_dataset/test/Trash Images' # Replace with the actual path to your image folder\n",
    "# List all files in the folder\n",
    "image_files = [f for f in os.listdir(folder_path) if f.endswith(('.jpg', '.png', '.jpeg'))]\n",
    "# Select a random image from the list\n",
    "selected_image = random.choice(image_files)\n",
    "# Display the randomly selected image\n",
    "image_path = os.path.join(folder_path, selected_image)\n",
    "display (Image(filename=image_path))"
   ]
  },
  {
   "cell_type": "code",
   "execution_count": 19,
   "metadata": {
    "colab": {
     "base_uri": "https://localhost:8080/",
     "height": 217
    },
    "id": "DMHEI2oZJZZ6",
    "outputId": "9b33a575-17d8-42cb-ba4a-9c1765f69452"
   },
   "outputs": [
    {
     "data": {
      "image/jpeg": "[encoded data removed]",
      "text/plain": [
       "<IPython.core.display.Image object>"
      ]
     },
     "metadata": {},
     "output_type": "display_data"
    }
   ],
   "source": [
    "\n",
    "folder_path = '/content/output_dataset/train/Trash Images' # Replace with the actual path to your image folder\n",
    "# List all files in the folder\n",
    "image_files = [f for f in os.listdir(folder_path) if f.endswith(('.jpg', '.png', '.jpeg'))]\n",
    "# Select a random image from the list\n",
    "selected_image = random.choice(image_files)\n",
    "# Display the randomly selected image\n",
    "image_path = os.path.join(folder_path, selected_image)\n",
    "display (Image(filename=image_path))"
   ]
  },
  {
   "cell_type": "code",
   "execution_count": 13,
   "metadata": {
    "colab": {
     "base_uri": "https://localhost:8080/"
    },
    "id": "BHgaszttSM60",
    "outputId": "476e59df-da54-4e1c-8f89-d2806b32d12d"
   },
   "outputs": [
    {
     "name": "stdout",
     "output_type": "stream",
     "text": [
      "Found 343 images belonging to 5 classes.\n",
      "Found 182 images belonging to 4 classes.\n"
     ]
    }
   ],
   "source": [
    "\n",
    "trainpath = \"output_dataset/train\"\n",
    "testpath=\"output_dataset/test\"\n",
    "train_datagen = ImageDataGenerator(rescale = 1./255,zoom_range= 0.2,shear_range= 0.2)\n",
    "test_datagen = ImageDataGenerator(rescale = 1./255)\n",
    "train = train_datagen.flow_from_directory(trainpath,target_size =(224,224), batch_size = 20)\n",
    "test = test_datagen.flow_from_directory(testpath,target_size =(224,224), batch_size = 20)"
   ]
  },
  {
   "cell_type": "code",
   "execution_count": 14,
   "metadata": {
    "colab": {
     "base_uri": "https://localhost:8080/"
    },
    "id": "DZY3Ze9qJv7_",
    "outputId": "0eb7ded2-6761-4378-ff72-0b05d0070b06"
   },
   "outputs": [
    {
     "name": "stdout",
     "output_type": "stream",
     "text": [
      "Downloading data from https://storage.googleapis.com/tensorflow/keras-applications/vgg16/vgg16_weights_tf_dim_ordering_tf_kernels_notop.h5\n",
      "\u001b[1m58889256/58889256\u001b[0m \u001b[32m━━━━━━━━━━━━━━━━━━━━\u001b[0m\u001b[37m\u001b[0m \u001b[1m34s\u001b[0m 1us/step\n"
     ]
    }
   ],
   "source": [
    "vgg=VGG16(include_top=False,input_shape=(224,224,3))"
   ]
  },
  {
   "cell_type": "code",
   "execution_count": 15,
   "metadata": {
    "colab": {
     "base_uri": "https://localhost:8080/"
    },
    "id": "Nv5Yif3CKFAs",
    "outputId": "3e4dad4f-0dfd-49d7-d3c5-f8b8a8ec3c8b"
   },
   "outputs": [
    {
     "name": "stdout",
     "output_type": "stream",
     "text": [
      "<InputLayer name=input_layer, built=True>\n",
      "<Conv2D name=block1_conv1, built=True>\n",
      "<Conv2D name=block1_conv2, built=True>\n",
      "<MaxPooling2D name=block1_pool, built=True>\n",
      "<Conv2D name=block2_conv1, built=True>\n",
      "<Conv2D name=block2_conv2, built=True>\n",
      "<MaxPooling2D name=block2_pool, built=True>\n",
      "<Conv2D name=block3_conv1, built=True>\n",
      "<Conv2D name=block3_conv2, built=True>\n",
      "<Conv2D name=block3_conv3, built=True>\n",
      "<MaxPooling2D name=block3_pool, built=True>\n",
      "<Conv2D name=block4_conv1, built=True>\n",
      "<Conv2D name=block4_conv2, built=True>\n",
      "<Conv2D name=block4_conv3, built=True>\n",
      "<MaxPooling2D name=block4_pool, built=True>\n",
      "<Conv2D name=block5_conv1, built=True>\n",
      "<Conv2D name=block5_conv2, built=True>\n",
      "<Conv2D name=block5_conv3, built=True>\n",
      "<MaxPooling2D name=block5_pool, built=True>\n"
     ]
    }
   ],
   "source": [
    "for layer in vgg.layers:\n",
    "  print(layer)"
   ]
  },
  {
   "cell_type": "code",
   "execution_count": 16,
   "metadata": {
    "id": "6M58HsiwKLgN"
   },
   "outputs": [],
   "source": [
    "for layer in vgg.layers:\n",
    "  layer.trainable=False"
   ]
  },
  {
   "cell_type": "code",
   "execution_count": 17,
   "metadata": {
    "id": "EiaOkeMDKTkh"
   },
   "outputs": [],
   "source": [
    "x=Flatten()(vgg.output)"
   ]
  },
  {
   "cell_type": "code",
   "execution_count": 18,
   "metadata": {
    "id": "33H4WhrJKZc5"
   },
   "outputs": [],
   "source": [
    "output=Dense(3,activation='softmax')(x)"
   ]
  },
  {
   "cell_type": "code",
   "execution_count": 19,
   "metadata": {
    "id": "6PF20QZ5KfQ2"
   },
   "outputs": [],
   "source": [
    "vgg16=Model(vgg.input,output)"
   ]
  },
  {
   "cell_type": "code",
   "execution_count": 20,
   "metadata": {
    "colab": {
     "base_uri": "https://localhost:8080/",
     "height": 801
    },
    "id": "evxPV7cBKlF6",
    "outputId": "d1b869f2-486d-4de6-d8ef-65c614ee93a8"
   },
   "outputs": [
    {
     "data": {
      "text/html": [
       "<pre style=\"white-space:pre;overflow-x:auto;line-height:normal;font-family:Menlo,'DejaVu Sans Mono',consolas,'Courier New',monospace\"><span style=\"font-weight: bold\">Model: \"functional\"</span>\n",
       "</pre>\n"
      ],
      "text/plain": [
       "\u001b[1mModel: \"functional\"\u001b[0m\n"
      ]
     },
     "metadata": {},
     "output_type": "display_data"
    },
    {
     "data": {
      "text/html": [
       "<pre style=\"white-space:pre;overflow-x:auto;line-height:normal;font-family:Menlo,'DejaVu Sans Mono',consolas,'Courier New',monospace\">┏━━━━━━━━━━━━━━━━━━━━━━━━━━━━━━━━━┳━━━━━━━━━━━━━━━━━━━━━━━━┳━━━━━━━━━━━━━━━┓\n",
       "┃<span style=\"font-weight: bold\"> Layer (type)                    </span>┃<span style=\"font-weight: bold\"> Output Shape           </span>┃<span style=\"font-weight: bold\">       Param # </span>┃\n",
       "┡━━━━━━━━━━━━━━━━━━━━━━━━━━━━━━━━━╇━━━━━━━━━━━━━━━━━━━━━━━━╇━━━━━━━━━━━━━━━┩\n",
       "│ input_layer (<span style=\"color: #0087ff; text-decoration-color: #0087ff\">InputLayer</span>)        │ (<span style=\"color: #00d7ff; text-decoration-color: #00d7ff\">None</span>, <span style=\"color: #00af00; text-decoration-color: #00af00\">224</span>, <span style=\"color: #00af00; text-decoration-color: #00af00\">224</span>, <span style=\"color: #00af00; text-decoration-color: #00af00\">3</span>)    │             <span style=\"color: #00af00; text-decoration-color: #00af00\">0</span> │\n",
       "├─────────────────────────────────┼────────────────────────┼───────────────┤\n",
       "│ block1_conv1 (<span style=\"color: #0087ff; text-decoration-color: #0087ff\">Conv2D</span>)           │ (<span style=\"color: #00d7ff; text-decoration-color: #00d7ff\">None</span>, <span style=\"color: #00af00; text-decoration-color: #00af00\">224</span>, <span style=\"color: #00af00; text-decoration-color: #00af00\">224</span>, <span style=\"color: #00af00; text-decoration-color: #00af00\">64</span>)   │         <span style=\"color: #00af00; text-decoration-color: #00af00\">1,792</span> │\n",
       "├─────────────────────────────────┼────────────────────────┼───────────────┤\n",
       "│ block1_conv2 (<span style=\"color: #0087ff; text-decoration-color: #0087ff\">Conv2D</span>)           │ (<span style=\"color: #00d7ff; text-decoration-color: #00d7ff\">None</span>, <span style=\"color: #00af00; text-decoration-color: #00af00\">224</span>, <span style=\"color: #00af00; text-decoration-color: #00af00\">224</span>, <span style=\"color: #00af00; text-decoration-color: #00af00\">64</span>)   │        <span style=\"color: #00af00; text-decoration-color: #00af00\">36,928</span> │\n",
       "├─────────────────────────────────┼────────────────────────┼───────────────┤\n",
       "│ block1_pool (<span style=\"color: #0087ff; text-decoration-color: #0087ff\">MaxPooling2D</span>)      │ (<span style=\"color: #00d7ff; text-decoration-color: #00d7ff\">None</span>, <span style=\"color: #00af00; text-decoration-color: #00af00\">112</span>, <span style=\"color: #00af00; text-decoration-color: #00af00\">112</span>, <span style=\"color: #00af00; text-decoration-color: #00af00\">64</span>)   │             <span style=\"color: #00af00; text-decoration-color: #00af00\">0</span> │\n",
       "├─────────────────────────────────┼────────────────────────┼───────────────┤\n",
       "│ block2_conv1 (<span style=\"color: #0087ff; text-decoration-color: #0087ff\">Conv2D</span>)           │ (<span style=\"color: #00d7ff; text-decoration-color: #00d7ff\">None</span>, <span style=\"color: #00af00; text-decoration-color: #00af00\">112</span>, <span style=\"color: #00af00; text-decoration-color: #00af00\">112</span>, <span style=\"color: #00af00; text-decoration-color: #00af00\">128</span>)  │        <span style=\"color: #00af00; text-decoration-color: #00af00\">73,856</span> │\n",
       "├─────────────────────────────────┼────────────────────────┼───────────────┤\n",
       "│ block2_conv2 (<span style=\"color: #0087ff; text-decoration-color: #0087ff\">Conv2D</span>)           │ (<span style=\"color: #00d7ff; text-decoration-color: #00d7ff\">None</span>, <span style=\"color: #00af00; text-decoration-color: #00af00\">112</span>, <span style=\"color: #00af00; text-decoration-color: #00af00\">112</span>, <span style=\"color: #00af00; text-decoration-color: #00af00\">128</span>)  │       <span style=\"color: #00af00; text-decoration-color: #00af00\">147,584</span> │\n",
       "├─────────────────────────────────┼────────────────────────┼───────────────┤\n",
       "│ block2_pool (<span style=\"color: #0087ff; text-decoration-color: #0087ff\">MaxPooling2D</span>)      │ (<span style=\"color: #00d7ff; text-decoration-color: #00d7ff\">None</span>, <span style=\"color: #00af00; text-decoration-color: #00af00\">56</span>, <span style=\"color: #00af00; text-decoration-color: #00af00\">56</span>, <span style=\"color: #00af00; text-decoration-color: #00af00\">128</span>)    │             <span style=\"color: #00af00; text-decoration-color: #00af00\">0</span> │\n",
       "├─────────────────────────────────┼────────────────────────┼───────────────┤\n",
       "│ block3_conv1 (<span style=\"color: #0087ff; text-decoration-color: #0087ff\">Conv2D</span>)           │ (<span style=\"color: #00d7ff; text-decoration-color: #00d7ff\">None</span>, <span style=\"color: #00af00; text-decoration-color: #00af00\">56</span>, <span style=\"color: #00af00; text-decoration-color: #00af00\">56</span>, <span style=\"color: #00af00; text-decoration-color: #00af00\">256</span>)    │       <span style=\"color: #00af00; text-decoration-color: #00af00\">295,168</span> │\n",
       "├─────────────────────────────────┼────────────────────────┼───────────────┤\n",
       "│ block3_conv2 (<span style=\"color: #0087ff; text-decoration-color: #0087ff\">Conv2D</span>)           │ (<span style=\"color: #00d7ff; text-decoration-color: #00d7ff\">None</span>, <span style=\"color: #00af00; text-decoration-color: #00af00\">56</span>, <span style=\"color: #00af00; text-decoration-color: #00af00\">56</span>, <span style=\"color: #00af00; text-decoration-color: #00af00\">256</span>)    │       <span style=\"color: #00af00; text-decoration-color: #00af00\">590,080</span> │\n",
       "├─────────────────────────────────┼────────────────────────┼───────────────┤\n",
       "│ block3_conv3 (<span style=\"color: #0087ff; text-decoration-color: #0087ff\">Conv2D</span>)           │ (<span style=\"color: #00d7ff; text-decoration-color: #00d7ff\">None</span>, <span style=\"color: #00af00; text-decoration-color: #00af00\">56</span>, <span style=\"color: #00af00; text-decoration-color: #00af00\">56</span>, <span style=\"color: #00af00; text-decoration-color: #00af00\">256</span>)    │       <span style=\"color: #00af00; text-decoration-color: #00af00\">590,080</span> │\n",
       "├─────────────────────────────────┼────────────────────────┼───────────────┤\n",
       "│ block3_pool (<span style=\"color: #0087ff; text-decoration-color: #0087ff\">MaxPooling2D</span>)      │ (<span style=\"color: #00d7ff; text-decoration-color: #00d7ff\">None</span>, <span style=\"color: #00af00; text-decoration-color: #00af00\">28</span>, <span style=\"color: #00af00; text-decoration-color: #00af00\">28</span>, <span style=\"color: #00af00; text-decoration-color: #00af00\">256</span>)    │             <span style=\"color: #00af00; text-decoration-color: #00af00\">0</span> │\n",
       "├─────────────────────────────────┼────────────────────────┼───────────────┤\n",
       "│ block4_conv1 (<span style=\"color: #0087ff; text-decoration-color: #0087ff\">Conv2D</span>)           │ (<span style=\"color: #00d7ff; text-decoration-color: #00d7ff\">None</span>, <span style=\"color: #00af00; text-decoration-color: #00af00\">28</span>, <span style=\"color: #00af00; text-decoration-color: #00af00\">28</span>, <span style=\"color: #00af00; text-decoration-color: #00af00\">512</span>)    │     <span style=\"color: #00af00; text-decoration-color: #00af00\">1,180,160</span> │\n",
       "├─────────────────────────────────┼────────────────────────┼───────────────┤\n",
       "│ block4_conv2 (<span style=\"color: #0087ff; text-decoration-color: #0087ff\">Conv2D</span>)           │ (<span style=\"color: #00d7ff; text-decoration-color: #00d7ff\">None</span>, <span style=\"color: #00af00; text-decoration-color: #00af00\">28</span>, <span style=\"color: #00af00; text-decoration-color: #00af00\">28</span>, <span style=\"color: #00af00; text-decoration-color: #00af00\">512</span>)    │     <span style=\"color: #00af00; text-decoration-color: #00af00\">2,359,808</span> │\n",
       "├─────────────────────────────────┼────────────────────────┼───────────────┤\n",
       "│ block4_conv3 (<span style=\"color: #0087ff; text-decoration-color: #0087ff\">Conv2D</span>)           │ (<span style=\"color: #00d7ff; text-decoration-color: #00d7ff\">None</span>, <span style=\"color: #00af00; text-decoration-color: #00af00\">28</span>, <span style=\"color: #00af00; text-decoration-color: #00af00\">28</span>, <span style=\"color: #00af00; text-decoration-color: #00af00\">512</span>)    │     <span style=\"color: #00af00; text-decoration-color: #00af00\">2,359,808</span> │\n",
       "├─────────────────────────────────┼────────────────────────┼───────────────┤\n",
       "│ block4_pool (<span style=\"color: #0087ff; text-decoration-color: #0087ff\">MaxPooling2D</span>)      │ (<span style=\"color: #00d7ff; text-decoration-color: #00d7ff\">None</span>, <span style=\"color: #00af00; text-decoration-color: #00af00\">14</span>, <span style=\"color: #00af00; text-decoration-color: #00af00\">14</span>, <span style=\"color: #00af00; text-decoration-color: #00af00\">512</span>)    │             <span style=\"color: #00af00; text-decoration-color: #00af00\">0</span> │\n",
       "├─────────────────────────────────┼────────────────────────┼───────────────┤\n",
       "│ block5_conv1 (<span style=\"color: #0087ff; text-decoration-color: #0087ff\">Conv2D</span>)           │ (<span style=\"color: #00d7ff; text-decoration-color: #00d7ff\">None</span>, <span style=\"color: #00af00; text-decoration-color: #00af00\">14</span>, <span style=\"color: #00af00; text-decoration-color: #00af00\">14</span>, <span style=\"color: #00af00; text-decoration-color: #00af00\">512</span>)    │     <span style=\"color: #00af00; text-decoration-color: #00af00\">2,359,808</span> │\n",
       "├─────────────────────────────────┼────────────────────────┼───────────────┤\n",
       "│ block5_conv2 (<span style=\"color: #0087ff; text-decoration-color: #0087ff\">Conv2D</span>)           │ (<span style=\"color: #00d7ff; text-decoration-color: #00d7ff\">None</span>, <span style=\"color: #00af00; text-decoration-color: #00af00\">14</span>, <span style=\"color: #00af00; text-decoration-color: #00af00\">14</span>, <span style=\"color: #00af00; text-decoration-color: #00af00\">512</span>)    │     <span style=\"color: #00af00; text-decoration-color: #00af00\">2,359,808</span> │\n",
       "├─────────────────────────────────┼────────────────────────┼───────────────┤\n",
       "│ block5_conv3 (<span style=\"color: #0087ff; text-decoration-color: #0087ff\">Conv2D</span>)           │ (<span style=\"color: #00d7ff; text-decoration-color: #00d7ff\">None</span>, <span style=\"color: #00af00; text-decoration-color: #00af00\">14</span>, <span style=\"color: #00af00; text-decoration-color: #00af00\">14</span>, <span style=\"color: #00af00; text-decoration-color: #00af00\">512</span>)    │     <span style=\"color: #00af00; text-decoration-color: #00af00\">2,359,808</span> │\n",
       "├─────────────────────────────────┼────────────────────────┼───────────────┤\n",
       "│ block5_pool (<span style=\"color: #0087ff; text-decoration-color: #0087ff\">MaxPooling2D</span>)      │ (<span style=\"color: #00d7ff; text-decoration-color: #00d7ff\">None</span>, <span style=\"color: #00af00; text-decoration-color: #00af00\">7</span>, <span style=\"color: #00af00; text-decoration-color: #00af00\">7</span>, <span style=\"color: #00af00; text-decoration-color: #00af00\">512</span>)      │             <span style=\"color: #00af00; text-decoration-color: #00af00\">0</span> │\n",
       "├─────────────────────────────────┼────────────────────────┼───────────────┤\n",
       "│ flatten (<span style=\"color: #0087ff; text-decoration-color: #0087ff\">Flatten</span>)               │ (<span style=\"color: #00d7ff; text-decoration-color: #00d7ff\">None</span>, <span style=\"color: #00af00; text-decoration-color: #00af00\">25088</span>)          │             <span style=\"color: #00af00; text-decoration-color: #00af00\">0</span> │\n",
       "├─────────────────────────────────┼────────────────────────┼───────────────┤\n",
       "│ dense (<span style=\"color: #0087ff; text-decoration-color: #0087ff\">Dense</span>)                   │ (<span style=\"color: #00d7ff; text-decoration-color: #00d7ff\">None</span>, <span style=\"color: #00af00; text-decoration-color: #00af00\">3</span>)              │        <span style=\"color: #00af00; text-decoration-color: #00af00\">75,267</span> │\n",
       "└─────────────────────────────────┴────────────────────────┴───────────────┘\n",
       "</pre>\n"
      ],
      "text/plain": [
       "┏━━━━━━━━━━━━━━━━━━━━━━━━━━━━━━━━━┳━━━━━━━━━━━━━━━━━━━━━━━━┳━━━━━━━━━━━━━━━┓\n",
       "┃\u001b[1m \u001b[0m\u001b[1mLayer (type)                   \u001b[0m\u001b[1m \u001b[0m┃\u001b[1m \u001b[0m\u001b[1mOutput Shape          \u001b[0m\u001b[1m \u001b[0m┃\u001b[1m \u001b[0m\u001b[1m      Param #\u001b[0m\u001b[1m \u001b[0m┃\n",
       "┡━━━━━━━━━━━━━━━━━━━━━━━━━━━━━━━━━╇━━━━━━━━━━━━━━━━━━━━━━━━╇━━━━━━━━━━━━━━━┩\n",
       "│ input_layer (\u001b[38;5;33mInputLayer\u001b[0m)        │ (\u001b[38;5;45mNone\u001b[0m, \u001b[38;5;34m224\u001b[0m, \u001b[38;5;34m224\u001b[0m, \u001b[38;5;34m3\u001b[0m)    │             \u001b[38;5;34m0\u001b[0m │\n",
       "├─────────────────────────────────┼────────────────────────┼───────────────┤\n",
       "│ block1_conv1 (\u001b[38;5;33mConv2D\u001b[0m)           │ (\u001b[38;5;45mNone\u001b[0m, \u001b[38;5;34m224\u001b[0m, \u001b[38;5;34m224\u001b[0m, \u001b[38;5;34m64\u001b[0m)   │         \u001b[38;5;34m1,792\u001b[0m │\n",
       "├─────────────────────────────────┼────────────────────────┼───────────────┤\n",
       "│ block1_conv2 (\u001b[38;5;33mConv2D\u001b[0m)           │ (\u001b[38;5;45mNone\u001b[0m, \u001b[38;5;34m224\u001b[0m, \u001b[38;5;34m224\u001b[0m, \u001b[38;5;34m64\u001b[0m)   │        \u001b[38;5;34m36,928\u001b[0m │\n",
       "├─────────────────────────────────┼────────────────────────┼───────────────┤\n",
       "│ block1_pool (\u001b[38;5;33mMaxPooling2D\u001b[0m)      │ (\u001b[38;5;45mNone\u001b[0m, \u001b[38;5;34m112\u001b[0m, \u001b[38;5;34m112\u001b[0m, \u001b[38;5;34m64\u001b[0m)   │             \u001b[38;5;34m0\u001b[0m │\n",
       "├─────────────────────────────────┼────────────────────────┼───────────────┤\n",
       "│ block2_conv1 (\u001b[38;5;33mConv2D\u001b[0m)           │ (\u001b[38;5;45mNone\u001b[0m, \u001b[38;5;34m112\u001b[0m, \u001b[38;5;34m112\u001b[0m, \u001b[38;5;34m128\u001b[0m)  │        \u001b[38;5;34m73,856\u001b[0m │\n",
       "├─────────────────────────────────┼────────────────────────┼───────────────┤\n",
       "│ block2_conv2 (\u001b[38;5;33mConv2D\u001b[0m)           │ (\u001b[38;5;45mNone\u001b[0m, \u001b[38;5;34m112\u001b[0m, \u001b[38;5;34m112\u001b[0m, \u001b[38;5;34m128\u001b[0m)  │       \u001b[38;5;34m147,584\u001b[0m │\n",
       "├─────────────────────────────────┼────────────────────────┼───────────────┤\n",
       "│ block2_pool (\u001b[38;5;33mMaxPooling2D\u001b[0m)      │ (\u001b[38;5;45mNone\u001b[0m, \u001b[38;5;34m56\u001b[0m, \u001b[38;5;34m56\u001b[0m, \u001b[38;5;34m128\u001b[0m)    │             \u001b[38;5;34m0\u001b[0m │\n",
       "├─────────────────────────────────┼────────────────────────┼───────────────┤\n",
       "│ block3_conv1 (\u001b[38;5;33mConv2D\u001b[0m)           │ (\u001b[38;5;45mNone\u001b[0m, \u001b[38;5;34m56\u001b[0m, \u001b[38;5;34m56\u001b[0m, \u001b[38;5;34m256\u001b[0m)    │       \u001b[38;5;34m295,168\u001b[0m │\n",
       "├─────────────────────────────────┼────────────────────────┼───────────────┤\n",
       "│ block3_conv2 (\u001b[38;5;33mConv2D\u001b[0m)           │ (\u001b[38;5;45mNone\u001b[0m, \u001b[38;5;34m56\u001b[0m, \u001b[38;5;34m56\u001b[0m, \u001b[38;5;34m256\u001b[0m)    │       \u001b[38;5;34m590,080\u001b[0m │\n",
       "├─────────────────────────────────┼────────────────────────┼───────────────┤\n",
       "│ block3_conv3 (\u001b[38;5;33mConv2D\u001b[0m)           │ (\u001b[38;5;45mNone\u001b[0m, \u001b[38;5;34m56\u001b[0m, \u001b[38;5;34m56\u001b[0m, \u001b[38;5;34m256\u001b[0m)    │       \u001b[38;5;34m590,080\u001b[0m │\n",
       "├─────────────────────────────────┼────────────────────────┼───────────────┤\n",
       "│ block3_pool (\u001b[38;5;33mMaxPooling2D\u001b[0m)      │ (\u001b[38;5;45mNone\u001b[0m, \u001b[38;5;34m28\u001b[0m, \u001b[38;5;34m28\u001b[0m, \u001b[38;5;34m256\u001b[0m)    │             \u001b[38;5;34m0\u001b[0m │\n",
       "├─────────────────────────────────┼────────────────────────┼───────────────┤\n",
       "│ block4_conv1 (\u001b[38;5;33mConv2D\u001b[0m)           │ (\u001b[38;5;45mNone\u001b[0m, \u001b[38;5;34m28\u001b[0m, \u001b[38;5;34m28\u001b[0m, \u001b[38;5;34m512\u001b[0m)    │     \u001b[38;5;34m1,180,160\u001b[0m │\n",
       "├─────────────────────────────────┼────────────────────────┼───────────────┤\n",
       "│ block4_conv2 (\u001b[38;5;33mConv2D\u001b[0m)           │ (\u001b[38;5;45mNone\u001b[0m, \u001b[38;5;34m28\u001b[0m, \u001b[38;5;34m28\u001b[0m, \u001b[38;5;34m512\u001b[0m)    │     \u001b[38;5;34m2,359,808\u001b[0m │\n",
       "├─────────────────────────────────┼────────────────────────┼───────────────┤\n",
       "│ block4_conv3 (\u001b[38;5;33mConv2D\u001b[0m)           │ (\u001b[38;5;45mNone\u001b[0m, \u001b[38;5;34m28\u001b[0m, \u001b[38;5;34m28\u001b[0m, \u001b[38;5;34m512\u001b[0m)    │     \u001b[38;5;34m2,359,808\u001b[0m │\n",
       "├─────────────────────────────────┼────────────────────────┼───────────────┤\n",
       "│ block4_pool (\u001b[38;5;33mMaxPooling2D\u001b[0m)      │ (\u001b[38;5;45mNone\u001b[0m, \u001b[38;5;34m14\u001b[0m, \u001b[38;5;34m14\u001b[0m, \u001b[38;5;34m512\u001b[0m)    │             \u001b[38;5;34m0\u001b[0m │\n",
       "├─────────────────────────────────┼────────────────────────┼───────────────┤\n",
       "│ block5_conv1 (\u001b[38;5;33mConv2D\u001b[0m)           │ (\u001b[38;5;45mNone\u001b[0m, \u001b[38;5;34m14\u001b[0m, \u001b[38;5;34m14\u001b[0m, \u001b[38;5;34m512\u001b[0m)    │     \u001b[38;5;34m2,359,808\u001b[0m │\n",
       "├─────────────────────────────────┼────────────────────────┼───────────────┤\n",
       "│ block5_conv2 (\u001b[38;5;33mConv2D\u001b[0m)           │ (\u001b[38;5;45mNone\u001b[0m, \u001b[38;5;34m14\u001b[0m, \u001b[38;5;34m14\u001b[0m, \u001b[38;5;34m512\u001b[0m)    │     \u001b[38;5;34m2,359,808\u001b[0m │\n",
       "├─────────────────────────────────┼────────────────────────┼───────────────┤\n",
       "│ block5_conv3 (\u001b[38;5;33mConv2D\u001b[0m)           │ (\u001b[38;5;45mNone\u001b[0m, \u001b[38;5;34m14\u001b[0m, \u001b[38;5;34m14\u001b[0m, \u001b[38;5;34m512\u001b[0m)    │     \u001b[38;5;34m2,359,808\u001b[0m │\n",
       "├─────────────────────────────────┼────────────────────────┼───────────────┤\n",
       "│ block5_pool (\u001b[38;5;33mMaxPooling2D\u001b[0m)      │ (\u001b[38;5;45mNone\u001b[0m, \u001b[38;5;34m7\u001b[0m, \u001b[38;5;34m7\u001b[0m, \u001b[38;5;34m512\u001b[0m)      │             \u001b[38;5;34m0\u001b[0m │\n",
       "├─────────────────────────────────┼────────────────────────┼───────────────┤\n",
       "│ flatten (\u001b[38;5;33mFlatten\u001b[0m)               │ (\u001b[38;5;45mNone\u001b[0m, \u001b[38;5;34m25088\u001b[0m)          │             \u001b[38;5;34m0\u001b[0m │\n",
       "├─────────────────────────────────┼────────────────────────┼───────────────┤\n",
       "│ dense (\u001b[38;5;33mDense\u001b[0m)                   │ (\u001b[38;5;45mNone\u001b[0m, \u001b[38;5;34m3\u001b[0m)              │        \u001b[38;5;34m75,267\u001b[0m │\n",
       "└─────────────────────────────────┴────────────────────────┴───────────────┘\n"
      ]
     },
     "metadata": {},
     "output_type": "display_data"
    },
    {
     "data": {
      "text/html": [
       "<pre style=\"white-space:pre;overflow-x:auto;line-height:normal;font-family:Menlo,'DejaVu Sans Mono',consolas,'Courier New',monospace\"><span style=\"font-weight: bold\"> Total params: </span><span style=\"color: #00af00; text-decoration-color: #00af00\">14,789,955</span> (56.42 MB)\n",
       "</pre>\n"
      ],
      "text/plain": [
       "\u001b[1m Total params: \u001b[0m\u001b[38;5;34m14,789,955\u001b[0m (56.42 MB)\n"
      ]
     },
     "metadata": {},
     "output_type": "display_data"
    },
    {
     "data": {
      "text/html": [
       "<pre style=\"white-space:pre;overflow-x:auto;line-height:normal;font-family:Menlo,'DejaVu Sans Mono',consolas,'Courier New',monospace\"><span style=\"font-weight: bold\"> Trainable params: </span><span style=\"color: #00af00; text-decoration-color: #00af00\">75,267</span> (294.01 KB)\n",
       "</pre>\n"
      ],
      "text/plain": [
       "\u001b[1m Trainable params: \u001b[0m\u001b[38;5;34m75,267\u001b[0m (294.01 KB)\n"
      ]
     },
     "metadata": {},
     "output_type": "display_data"
    },
    {
     "data": {
      "text/html": [
       "<pre style=\"white-space:pre;overflow-x:auto;line-height:normal;font-family:Menlo,'DejaVu Sans Mono',consolas,'Courier New',monospace\"><span style=\"font-weight: bold\"> Non-trainable params: </span><span style=\"color: #00af00; text-decoration-color: #00af00\">14,714,688</span> (56.13 MB)\n",
       "</pre>\n"
      ],
      "text/plain": [
       "\u001b[1m Non-trainable params: \u001b[0m\u001b[38;5;34m14,714,688\u001b[0m (56.13 MB)\n"
      ]
     },
     "metadata": {},
     "output_type": "display_data"
    }
   ],
   "source": [
    "vgg16.summary()"
   ]
  },
  {
   "cell_type": "code",
   "execution_count": 23,
   "metadata": {
    "colab": {
     "base_uri": "https://localhost:8080/"
    },
    "id": "WsyumOboKoEe",
    "outputId": "81301292-22d9-484a-ef48-92137199ffeb"
   },
   "outputs": [],
   "source": [
    "from tensorflow.keras.applications import VGG16\n",
    "from tensorflow.keras import layers, models\n",
    "\n",
    "num_classes = train.num_classes  # ✅ define this before using it\n",
    "\n",
    "base_model = VGG16(weights='imagenet', include_top=False, input_shape=(224, 224, 3))\n",
    "base_model.trainable = False  # freeze the base\n",
    "\n",
    "model = models.Sequential([\n",
    "    base_model,\n",
    "    layers.Flatten(),\n",
    "    layers.Dense(512, activation='relu'),\n",
    "    layers.Dropout(0.5),\n",
    "    layers.Dense(num_classes, activation='softmax')  # ✅ now this works\n",
    "])\n"
   ]
  },
  {
   "cell_type": "code",
   "execution_count": 24,
   "metadata": {
    "id": "fqnGoSdUQCjo"
   },
   "outputs": [],
   "source": [
    "\n",
    "from keras.preprocessing import image\n",
    "from keras.applications.vgg16 import preprocess_input\n",
    "from tensorflow.keras.preprocessing.image import load_img, img_to_array"
   ]
  },
  {
   "cell_type": "code",
   "execution_count": 25,
   "metadata": {
    "id": "xPAVn-GvQUM_"
   },
   "outputs": [],
   "source": [
    "\n",
    "labels=[0,1,2]\n"
   ]
  },
  {
   "cell_type": "code",
   "execution_count": 27,
   "metadata": {
    "id": "BlW7qqmdQWtI"
   },
   "outputs": [],
   "source": [
    "img_path='output_dataset/train/Biodegradable Images/TEST_BIODEG_HFL_10.jpeg'"
   ]
  },
  {
   "cell_type": "code",
   "execution_count": 28,
   "metadata": {
    "colab": {
     "base_uri": "https://localhost:8080/"
    },
    "id": "CQLbrPoIQZ0J",
    "outputId": "737c6692-d3eb-4940-babd-b6a30cfba539"
   },
   "outputs": [
    {
     "name": "stdout",
     "output_type": "stream",
     "text": [
      "\u001b[1m1/1\u001b[0m \u001b[32m━━━━━━━━━━━━━━━━━━━━\u001b[0m\u001b[37m\u001b[0m \u001b[1m1s\u001b[0m 529ms/step\n"
     ]
    },
    {
     "data": {
      "text/plain": [
       "array([[9.9968648e-01, 5.6829502e-10, 3.1349392e-04]], dtype=float32)"
      ]
     },
     "execution_count": 28,
     "metadata": {},
     "output_type": "execute_result"
    }
   ],
   "source": [
    "import numpy as np\n",
    "img=load_img(img_path, target_size=(224, 224))\n",
    "x = img_to_array(img)\n",
    "x = preprocess_input(x)\n",
    "preds=vgg16.predict(np.array([x]))\n",
    "preds"
   ]
  },
  {
   "cell_type": "code",
   "execution_count": 29,
   "metadata": {
    "colab": {
     "base_uri": "https://localhost:8080/"
    },
    "id": "C_Zijjs5Qm_H",
    "outputId": "e836e2c3-205f-43f5-9939-1fb843f4d828"
   },
   "outputs": [
    {
     "data": {
      "text/plain": [
       "0"
      ]
     },
     "execution_count": 29,
     "metadata": {},
     "output_type": "execute_result"
    }
   ],
   "source": [
    "labels [np.argmax(preds)]"
   ]
  },
  {
   "cell_type": "markdown",
   "metadata": {
    "id": "tgPOKU3dQuTE"
   },
   "source": [
    "test 2\n"
   ]
  },
  {
   "cell_type": "code",
   "execution_count": 32,
   "metadata": {
    "id": "75XMtR9hQvwX"
   },
   "outputs": [],
   "source": [
    "img_path='output_dataset/test/Recyclable Images/cardboard149.jpeg'"
   ]
  },
  {
   "cell_type": "code",
   "execution_count": 33,
   "metadata": {
    "colab": {
     "base_uri": "https://localhost:8080/"
    },
    "id": "_5JOAI3uQ5sP",
    "outputId": "39fe19a8-67af-4d8f-f87e-5c42147df667"
   },
   "outputs": [
    {
     "name": "stdout",
     "output_type": "stream",
     "text": [
      "\u001b[1m1/1\u001b[0m \u001b[32m━━━━━━━━━━━━━━━━━━━━\u001b[0m\u001b[37m\u001b[0m \u001b[1m0s\u001b[0m 129ms/step\n"
     ]
    },
    {
     "data": {
      "text/plain": [
       "array([[9.999666e-01, 2.301082e-06, 3.114096e-05]], dtype=float32)"
      ]
     },
     "execution_count": 33,
     "metadata": {},
     "output_type": "execute_result"
    }
   ],
   "source": [
    "import numpy as np\n",
    "img=load_img(img_path, target_size=(224, 224))\n",
    "x = img_to_array(img)\n",
    "x = preprocess_input(x)\n",
    "preds=vgg16.predict(np.array([x]))\n",
    "preds"
   ]
  },
  {
   "cell_type": "code",
   "execution_count": 34,
   "metadata": {
    "colab": {
     "base_uri": "https://localhost:8080/"
    },
    "id": "bXnEL-rGQ9JP",
    "outputId": "fadd8a5b-ce00-4b57-ab7b-9fa6e4250a79"
   },
   "outputs": [
    {
     "data": {
      "text/plain": [
       "0"
      ]
     },
     "execution_count": 34,
     "metadata": {},
     "output_type": "execute_result"
    }
   ],
   "source": [
    "labels [np.argmax(preds)]"
   ]
  },
  {
   "cell_type": "markdown",
   "metadata": {
    "id": "ttgfwVbfRBoQ"
   },
   "source": [
    "test 3"
   ]
  },
  {
   "cell_type": "code",
   "execution_count": 36,
   "metadata": {
    "colab": {
     "base_uri": "https://localhost:8080/"
    },
    "id": "xcfx9_b3RFzB",
    "outputId": "66e3bd70-3900-4a41-e2de-0804db54bf35"
   },
   "outputs": [
    {
     "name": "stdout",
     "output_type": "stream",
     "text": [
      "\u001b[1m1/1\u001b[0m \u001b[32m━━━━━━━━━━━━━━━━━━━━\u001b[0m\u001b[37m\u001b[0m \u001b[1m0s\u001b[0m 182ms/step\n"
     ]
    },
    {
     "data": {
      "text/plain": [
       "1"
      ]
     },
     "execution_count": 36,
     "metadata": {},
     "output_type": "execute_result"
    }
   ],
   "source": [
    "img_path='output_dataset/train/Trash Images/TRAIN.4_NBIODEG_CCW_1778.jpg'\n",
    "import numpy as np\n",
    "img=load_img(img_path, target_size=(224, 224))\n",
    "x = img_to_array(img)\n",
    "x = preprocess_input(x)\n",
    "preds=vgg16.predict(np.array([x]))\n",
    "preds\n",
    "labels [np.argmax(preds)]"
   ]
  },
  {
   "cell_type": "markdown",
   "metadata": {
    "id": "z42xMPRjRaD1"
   },
   "source": [
    "test 4"
   ]
  },
  {
   "cell_type": "code",
   "execution_count": 39,
   "metadata": {
    "colab": {
     "base_uri": "https://localhost:8080/"
    },
    "id": "hI2JdgF-RJ1U",
    "outputId": "e705737e-5bbc-4b57-fd20-e2e697335862"
   },
   "outputs": [
    {
     "name": "stdout",
     "output_type": "stream",
     "text": [
      "\u001b[1m1/1\u001b[0m \u001b[32m━━━━━━━━━━━━━━━━━━━━\u001b[0m\u001b[37m\u001b[0m \u001b[1m0s\u001b[0m 117ms/step\n"
     ]
    },
    {
     "data": {
      "text/plain": [
       "2"
      ]
     },
     "execution_count": 39,
     "metadata": {},
     "output_type": "execute_result"
    }
   ],
   "source": [
    "img_path='output_dataset/test/Recyclable Images/paper11.jpeg'\n",
    "import numpy as np\n",
    "img=load_img(img_path, target_size=(224, 224))\n",
    "x = img_to_array(img)\n",
    "x = preprocess_input(x)\n",
    "preds=vgg16.predict(np.array([x]))\n",
    "preds\n",
    "labels [np.argmax(preds)]"
   ]
  },
  {
   "cell_type": "code",
   "execution_count": 45,
   "metadata": {},
   "outputs": [
    {
     "name": "stdout",
     "output_type": "stream",
     "text": [
      "\u001b[1m1/1\u001b[0m \u001b[32m━━━━━━━━━━━━━━━━━━━━\u001b[0m\u001b[37m\u001b[0m \u001b[1m0s\u001b[0m 134ms/step\n"
     ]
    },
    {
     "data": {
      "text/plain": [
       "0"
      ]
     },
     "execution_count": 45,
     "metadata": {},
     "output_type": "execute_result"
    }
   ],
   "source": [
    "img_path = 'output_dataset/test/Recyclable Images/glass180.jpeg'\n",
    "import numpy as np\n",
    "img=load_img(img_path, target_size=(224, 224))\n",
    "x = img_to_array(img)\n",
    "x = preprocess_input(x)\n",
    "preds=vgg16.predict(np.array([x]))\n",
    "preds\n",
    "labels [np.argmax(preds)]"
   ]
  },
  {
   "cell_type": "code",
   "execution_count": 46,
   "metadata": {},
   "outputs": [],
   "source": [
    "vgg16.save('internship12.keras')"
   ]
  },
  {
   "cell_type": "code",
   "execution_count": null,
   "metadata": {},
   "outputs": [],
   "source": []
  }
 ],
 "metadata": {
  "colab": {
   "provenance": []
  },
  "kernelspec": {
   "display_name": "Python 3 (ipykernel)",
   "language": "python",
   "name": "python3"
  },
  "language_info": {
   "codemirror_mode": {
    "name": "ipython",
    "version": 3
   },
   "file_extension": ".py",
   "mimetype": "text/x-python",
   "name": "python",
   "nbconvert_exporter": "python",
   "pygments_lexer": "ipython3",
   "version": "3.12.7"
  }
 },
 "nbformat": 4,
 "nbformat_minor": 4
}
